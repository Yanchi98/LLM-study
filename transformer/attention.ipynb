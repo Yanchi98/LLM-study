{
 "cells": [
  {
   "cell_type": "code",
   "execution_count": 2,
   "metadata": {},
   "outputs": [
    {
     "data": {
      "text/plain": [
       "torch.Size([16, 64, 512])"
      ]
     },
     "execution_count": 2,
     "metadata": {},
     "output_type": "execute_result"
    }
   ],
   "source": [
    "import torch\n",
    "from torch import nn\n",
    "import math\n",
    "\n",
    "class multi_head_attn(nn.Module):\n",
    "    def __init__(self, head=8, d_model=512):\n",
    "        super().__init__()\n",
    "        self.q_w = nn.Linear(d_model, d_model)\n",
    "        self.k_w = nn.Linear(d_model, d_model)\n",
    "        self.v_w = nn.Linear(d_model, d_model)\n",
    "        self.o_w = nn.Linear(d_model, d_model)\n",
    "        self.softmax = nn.Softmax(dim=-1)\n",
    "        self.head = head\n",
    "        self.new_d = d_model // head\n",
    "        self.d_model = d_model\n",
    "        \n",
    "    def forward(self, q, k, v):\n",
    "        q, k, v = self.q_w(q), self.k_w(k), self.v_w(v)\n",
    "        \n",
    "        q = q.view(B, T, self.head, self.new_d).transpose(1,2)\n",
    "        k = k.view(B, T, self.head, self.new_d).transpose(1,2)\n",
    "        v = v.view(B, T, self.head, self.new_d).transpose(1,2)\n",
    "        \n",
    "        score = q @ k.transpose(2,3) / math.sqrt(self.new_d)\n",
    "        mask = torch.tril(torch.ones(T, T, dtype=bool))\n",
    "        score.masked_fill(mask==0, -10000)\n",
    "        \n",
    "        out = score @ v\n",
    "        out = out.transpose(1,2).contiguous().view(B, T, self.d_model)\n",
    "        \n",
    "        out = self.o_w(out)\n",
    "        \n",
    "        return out\n",
    "    \n",
    "B = 16\n",
    "T = 64\n",
    "x = torch.randn(B, T, 512)\n",
    "attn = multi_head_attn()\n",
    "y = attn(x,x,x)\n",
    "y.shape"
   ]
  },
  {
   "cell_type": "code",
   "execution_count": 6,
   "metadata": {},
   "outputs": [
    {
     "name": "stdout",
     "output_type": "stream",
     "text": [
      "tensor([1., 1., 1., 1., 1., 1., 1., 1., 1., 1.], grad_fn=<SliceBackward0>)\n",
      "tensor([0., 0., 0., 0., 0., 0., 0., 0., 0., 0.], grad_fn=<SliceBackward0>)\n"
     ]
    },
    {
     "data": {
      "text/plain": [
       "torch.Size([16, 64, 512])"
      ]
     },
     "execution_count": 6,
     "metadata": {},
     "output_type": "execute_result"
    }
   ],
   "source": [
    "class layer_norm(nn.Module):\n",
    "    def __init__(self, eps=1e-12, d_model=512):\n",
    "        super().__init__()\n",
    "        self.eps = eps\n",
    "        self.beta = nn.Parameter(torch.zeros(d_model))\n",
    "        self.gamma = nn.Parameter(torch.ones(d_model))\n",
    "        \n",
    "    def forward(self, x):\n",
    "        mean = x.mean(-1, keepdim=True)\n",
    "        var = x.var(-1, unbiased=True, keepdim=True)\n",
    "        out = (x-mean) / (var + self.eps)\n",
    "        out = self.gamma * out + self.beta\n",
    "        \n",
    "        return out\n",
    "    \n",
    "layer_norm = layer_norm()\n",
    "print(layer_norm.gamma[:10])\n",
    "print(layer_norm.beta[:10])\n",
    "x = torch.randn(16, 64, 512)\n",
    "y = layer_norm(x)\n",
    "y.shape"
   ]
  },
  {
   "cell_type": "code",
   "execution_count": null,
   "metadata": {},
   "outputs": [],
   "source": []
  }
 ],
 "metadata": {
  "kernelspec": {
   "display_name": "pytorch",
   "language": "python",
   "name": "pytorch"
  },
  "language_info": {
   "codemirror_mode": {
    "name": "ipython",
    "version": 3
   },
   "file_extension": ".py",
   "mimetype": "text/x-python",
   "name": "python",
   "nbconvert_exporter": "python",
   "pygments_lexer": "ipython3",
   "version": "3.8.1"
  }
 },
 "nbformat": 4,
 "nbformat_minor": 4
}
